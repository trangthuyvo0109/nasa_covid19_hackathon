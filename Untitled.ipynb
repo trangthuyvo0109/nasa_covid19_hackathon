{
 "cells": [
  {
   "cell_type": "markdown",
   "metadata": {},
   "source": [
    "# Tutorial: How to download environmental impacts data from NASA COVID-19 Pathfinder\n",
    "\n",
    "In this tutorial, I am going to show how to download environmental impacts data caused by COVID-19. \n",
    "\n",
    "The data portal is NASA Pathfinder: https://earthdata.nasa.gov/learn/pathfinders/covid-19/environmental-impacts\n",
    "\n",
    "In terms of **Environmental Impacts** data caused by COVID-19, it is divided into sub groups:\n",
    "- Air quality: https://earthdata.nasa.gov/learn/pathfinders/health-and-air-quality-data-pathfinder\n",
    "- Nighttime light: https://search.earthdata.nasa.gov/search?q=Day/Night&fi=VIIRS&fst0=Spectral/Engineering&fsm0=Infrared%20Wavelengths&fs10=Infrared%20Radiance&fst1=Spectral/Engineering&fsm1=Infrared%20Wavelengths\n",
    "- Water quality: https://earthdata.nasa.gov/learn/pathfinders/water-quality-data-pathfinder\n",
    "- Biological diversity: https://earthdata.nasa.gov/learn/pathfinders/biodiversity\n",
    "- Socioeconomic impacts: https://sedac.ciesin.columbia.edu/mapping/popest/covid-19/\n",
    "\n",
    "\n"
   ]
  },
  {
   "cell_type": "markdown",
   "metadata": {},
   "source": [
    "A short tutorial to show "
   ]
  }
 ],
 "metadata": {
  "kernelspec": {
   "display_name": "Python 3",
   "language": "python",
   "name": "python3"
  },
  "language_info": {
   "codemirror_mode": {
    "name": "ipython",
    "version": 3
   },
   "file_extension": ".py",
   "mimetype": "text/x-python",
   "name": "python",
   "nbconvert_exporter": "python",
   "pygments_lexer": "ipython3",
   "version": "3.7.3"
  }
 },
 "nbformat": 4,
 "nbformat_minor": 2
}
